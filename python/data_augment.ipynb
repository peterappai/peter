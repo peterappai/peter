{
 "cells": [
  {
   "cell_type": "code",
   "execution_count": 1,
   "metadata": {},
   "outputs": [],
   "source": [
    "import os\n",
    "import cv2\n",
    "import random\n",
    "\n",
    "onlyfiles = [l for l in os.listdir(r\"C:\\Users\\ercih\\Desktop\\aspava-yildiz\\python\\images_data\\dataset_256\")]\n",
    "\n",
    "def horizontal_flip(img, flag):\n",
    "    if flag:\n",
    "        return cv2.flip(img, 1)\n",
    "    else:\n",
    "        return img\n",
    "\n",
    "def vertical_flip(img, flag):\n",
    "    if flag:\n",
    "        return cv2.flip(img, 0)\n",
    "    else:\n",
    "        return img\n",
    "\n",
    "def rotation(img, angle):\n",
    "    angle = int(random.uniform(-angle, angle))\n",
    "    h, w = img.shape[:2]\n",
    "    M = cv2.getRotationMatrix2D((int(w/2), int(h/2)), angle, 1)\n",
    "    img = cv2.warpAffine(img, M, (w, h))\n",
    "    return img"
   ]
  },
  {
   "cell_type": "code",
   "execution_count": 2,
   "metadata": {},
   "outputs": [],
   "source": [
    "for x in onlyfiles:\n",
    "    try:\n",
    "        img = cv2.imread(os.path.join(r\"C:\\Users\\ercih\\Desktop\\aspava-yildiz\\python\\images_data\\dataset_256\", x))\n",
    "        dic = {}\n",
    "        dic[\"gt\"] = img\n",
    "        dic[\"horizontal\"] = cv2.flip(img, 1)\n",
    "        dic[\"vertical\"] = cv2.flip(img, 0)\n",
    "        dic[\"rot_45\"] = rotation(img, 45)\n",
    "        dic[\"rot_90\"] = rotation(img, 90)\n",
    "        dic[\"rot_-45\"] = rotation(img, -45)\n",
    "        dic[\"rot_-90\"] = rotation(img, -90)\n",
    "        for key,values in dic.items():\n",
    "            cv2.imwrite(os.path.join(r\"C:\\Users\\ercih\\Desktop\\aspava-yildiz\\python\\images_data\\dataset_256_aug\",x[:-4] + \"_\" + key + \".png\"), values)\n",
    "    except:\n",
    "        pass\n"
   ]
  }
 ],
 "metadata": {
  "interpreter": {
   "hash": "e0f161c7278b3359e4c87fa0621de6e23f9029d88e07f4b58306bf49cd1168ae"
  },
  "kernelspec": {
   "display_name": "Python 3.9.11 ('pytorch')",
   "language": "python",
   "name": "python3"
  },
  "language_info": {
   "codemirror_mode": {
    "name": "ipython",
    "version": 3
   },
   "file_extension": ".py",
   "mimetype": "text/x-python",
   "name": "python",
   "nbconvert_exporter": "python",
   "pygments_lexer": "ipython3",
   "version": "3.9.11"
  },
  "orig_nbformat": 4
 },
 "nbformat": 4,
 "nbformat_minor": 2
}
